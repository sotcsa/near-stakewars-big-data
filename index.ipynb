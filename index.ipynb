import glob
import os
import json
import time
import requests
import matplotlib.pyplot as plt


class ValidatorLoader:
    base_dir = "."

    def __init__(self, network):
        self._debug_enabled = False
        self.validators = {}
        self.stat_seats = {}
        self.stat_max_stake = {}
        self.stat_all_stakes = {}
        self.stat_kickout_not_enough_stake_sum = {}
        self.stat_kickout_not_enough_block_sum = {}
        self.stat_kickout_other_reason_sum = {}
        self.data_folder = self.base_dir + "/" + network

        if network == 'mainnet':
            self.network = network
            self.rpc_url = 'https://archival-rpc.mainnet.near.org'
            self.first_epoch_id = '2ypQRvX2TxpQZ6Jbn8jP1Wf4mddBdshxVP7UzQWTc8SH'
        elif network == 'testnet':
            self.network = network
            self.rpc_url = 'https://archival-rpc.testnet.near.org'
        else:
            self.network = 'shardnet'
            self.rpc_url = 'https://archival-rpc.shardnet.near.org'
            self.first_epoch_id = '11111111111111111111111111111111'

    def get_validators(self, block_id=None):
        result = None
        if block_id and self._is_cached_validators(block_id):
            result = self._get_validators_from_file(self._get_filename_validators(block_id))

        if not result:
            # print(f'--Calling REST API to fetch validators with block_id {block_id}')
            p = {
                "jsonrpc": "2.0",
                "id": "dontcare",
                "method": "validators",
                "params": [block_id]
            }

            r = requests.post(self.rpc_url, json=p)
            result = r.json()['result']
            self._cache_validators(block_id, result)
            time.sleep(1)

        return result

    def _get_block(self, block_id=None):
        result = None
        if block_id and self._is_cached_block(block_id):
            result = self._get_block_from_file(block_id)

        if not result:
            # print(f'--Calling REST API to fetch block {block_id}')
            p = {
                "jsonrpc": "2.0",
                "id": "dontcare",
                "method": "block",
                "params": {}
            }
            if block_id:
                p["params"]["block_id"] = block_id
            else:
                p["params"]["finality"] = "final"

            r = requests.post(self.rpc_url, json=p)
            result = r.json()['result']['header']
            # del result['approvals']
            self._cache_block(block_id, result)
            time.sleep(1)

        return {
            "epoch_id": result['epoch_id'],
            "next_epoch_id": result['next_epoch_id'],
            "height": result['height'],
            "prev_height": result['prev_height']
        }

    def _get_block_from_file(self, block_id):
        # print(f'    Loading block {block_id} from file')
        with open(self._get_filename_block(block_id), 'r') as f:
            data = json.load(f)
        return data

    def _cache_block(self, block_id, json_data):
        pass

    def _cache_validators(self, block_id, json_data):
        pass

    def _get_filename_validators(self, block_id):
        return self.data_folder + '/validators_' + str(block_id) + '.json'

    def _get_filename_block(self, block_id):
        return self.data_folder + '/block_' + str(block_id) + '.json'

    def _is_cached_validators(self, block_id):
        return os.path.exists(self._get_filename_validators(block_id))

    def _is_cached_block(self, block_id):
        return os.path.exists(self._get_filename_block(block_id))

    @staticmethod
    def _print_epoch_info(block):
        print(f'Epoch ID: {block["epoch_id"]}  (Start height: {block["height"]})')

    def _get_epoch_info(self, height):
        start_height = self._get_epoch_start_height(height)
        block = self._get_block(start_height)
        return block

    def _get_epoch_start_height(self, block_id=None):
        arr = self.get_validators(block_id)
        return arr['epoch_start_height']

    def fetch_and_store_validators_data(self):
        # print(f'Collecting validator data on {self.network}')
        if not os.path.exists(self.data_folder):
            # Create a new directory because it does not exist
            os.makedirs(self.data_folder)

        # Get current validators star height
        epoch_start_height = self._get_epoch_start_height()
        # latest_block = self._get_block()
        # epoch_start_height = 1

        # Get block with epoch_start_height #
        block = self._get_block(epoch_start_height)
        # print(f'Next epoch ID: {block["next_epoch_id"]}')
        # self._print_epoch_info(block)

        while block['epoch_id'] != self.first_epoch_id:
            block = self._get_epoch_info(block["prev_height"])
            # self._print_epoch_info(block)

    def get(self):
        self.load()
        return self.validators

    def store_stake_stats(self, epoch_height, current_validators):
        minimum = 0
        maximum = 0
        sum = 0
        for v in current_validators:
            stake = int(v['stake'])
            sum += stake
            if minimum == 0 or stake < minimum:
                minimum = stake
            if maximum == 0 or stake > maximum:
                maximum = stake

        self.stat_seats[epoch_height] = minimum / 10 ** 24
        self.stat_max_stake[epoch_height] = maximum / 10 ** 24
        self.stat_all_stakes[epoch_height] = sum / 10 ** 24

        # self.stat_seats[epoch_height] =  min(current_validators['stake'], key=lambda x:x['stake'])

    def store_kickout_stats_stake(self, epoch_height, reason, stake, threshold):
        if epoch_height in self.stat_kickout_not_enough_stake_sum:
            self.stat_kickout_not_enough_stake_sum[epoch_height] += 1
        else:
            self.stat_kickout_not_enough_stake_sum[epoch_height] = 1

    def store_kickout_stats_blocks(self, epoch_height, reason, expected, produced):
        if epoch_height in self.stat_kickout_not_enough_block_sum:
            self.stat_kickout_not_enough_block_sum[epoch_height] += 1
        else:
            self.stat_kickout_not_enough_block_sum[epoch_height] = 1

    def store_kickout_stats_reason(self, epoch_height, reason):
        if epoch_height in self.stat_kickout_other_reason_sum:
            self.stat_kickout_other_reason_sum[epoch_height] += 1
        else:
            self.stat_kickout_other_reason_sum[epoch_height] = 1

    def load(self):
        debug = False
        self.fetch_and_store_validators_data()

        for file in glob.glob(self.data_folder + '/validator*.json'):
            vs = self._get_validators_from_file(file)

            epoch_height = vs['epoch_height']
            self.store_stake_stats(epoch_height, vs['current_validators'])

            # current_validators
            for v in vs['current_validators']:
                account_id = v['account_id']
                stored_validator = self.get_validator_data(account_id)
                stored_validator['num_expected_blocks'] += v['num_expected_blocks']
                stored_validator['num_expected_chunks'] += v['num_expected_chunks']
                stored_validator['num_produced_blocks'] += v['num_produced_blocks']
                stored_validator['num_produced_chunks'] += v['num_expected_blocks']
                if v['is_slashed']:
                    stored_validator['nr_slashed'] += 1

            # prev_epoch_kickout
            for v in vs['prev_epoch_kickout']:
                account_id = v['account_id']
                stored_validator = self.get_validator_data(account_id)
                reason_obj = v['reason']
                if isinstance(reason_obj, str):
                    reason = v['reason']
                    # print(f'[{account_id}] Kickout reason: {reason}')
                else:
                    for reason in v['reason']:
                        reason_details = v['reason'][reason]
                        if reason == 'NotEnoughStake':
                            stake = reason_details['stake_u128']
                            threshold = reason_details['threshold_u128']
                            self.store_kickout_stats_stake(epoch_height, reason, stake, threshold)
                            if debug:
                                print(
                                    f'[{account_id}] Kickout reason: {reason}, stake: {stake}, threshold: {threshold}')
                        elif reason == 'NotEnoughBlocks':
                            expected = reason_details['expected']
                            produced = reason_details['produced']
                            self.store_kickout_stats_blocks(epoch_height, reason, expected, produced)
                            if debug:
                                print(
                                    f'[{account_id}] Kickout reason: {reason}, expected: {expected}, produced: {produced}')
                        else:
                            self.store_kickout_stats_reason(epoch_height, reason)
                            if debug:
                                print(f'[{account_id}] Kickout reason: {reason}')

                stored_validator['nr_kicked'] += 1

    @staticmethod
    def _get_validators_from_file(filename):
        # self.debug('    Loading validators from '+filename)
        with open(filename, 'r') as f:
            data = json.load(f)
        return data

    def get_validator_data(self, account_id=None):
        if account_id in self.validators:
            return self.validators[account_id]
        else:
            v = {
                'nr_slashed': 0,
                'nr_kicked': 0,
                'num_expected_blocks': 0,
                'num_expected_chunks': 0,
                'num_produced_blocks': 0,
                'num_produced_chunks': 0
            }
            self.validators[account_id] = v
            return v

    # def debug(self, text):
    #     if self._debug_enabled:
    #         print(text)

    def print_slashed(self):
        for account_id in self.validators:
            v = self.validators[account_id]
            if v['nr_slashed'] > 0:
                print(f'Validator {account_id} slashed {v["nr_slashed"]} times')

    def print_kicked_stat(self):
        kick_list = []
        for account_id in self.validators:
            v = self.validators[account_id]
            nr_kicked = v["nr_kicked"]
            if nr_kicked > 0:
                print(f'Validator {account_id} kicked {nr_kicked} times')
                kick_list.append({'account_id': account_id, 'nr_kicked': nr_kicked})
        sorted_x = sorted(kick_list, key=lambda x: x['nr_kicked'], reverse=True)
        print(f'Kicked: {sorted_x}')

    def nr_chunk_only(self):
        result = []
        for account_id in self.validators:
            v = self.validators[account_id]
            if v['num_produced_blocks'] == 0:
                result.append(account_id)

        # print(f'Chunk-only Validators: {result}')
        return len(result)

    def nr_no_chunk_produced(self):
        result = []
        for account_id in self.validators:
            v = self.validators[account_id]
            if v['num_produced_chunks'] == 0:
                result.append(account_id)

        # print(f'No Chunk Producers: {result}')
        return len(result)

    def _viz(self, _dict, label=None):
        l = sorted(_dict.items())  # sorted by key, return a list of tuples
        if l:
            x, y = zip(*l)  # unpack a list of pairs into two tuples
            plt.scatter(x, y)
            if label:
                plt.title(label)
            plt.show()

    def visualize_stakes(self):
        self._viz(self.stat_seats, "Seat price")  # sorted by key, return a list of tuples

    def visualize_kickout_not_enough_stake(self):
        self._viz(self.stat_kickout_not_enough_stake_sum, "Kicked out with NotEnoughStake")

    def visualize_kickout_not_enough_block(self):
        self._viz(self.stat_kickout_not_enough_block_sum, "Kicked out with NotEnoughBlocks")

    def visualize_kickout_other_reason(self):
        self._viz(self.stat_kickout_other_reason_sum, "Kicked out with other reason")

    def print_stats(self):
        # self.print_slashed()
        # self.print_kicked_stat()
        print(f'Nr of Validator: {len(self.validators)}')
        print(f'Nr of Chunk-only Validator: {self.nr_chunk_only()}')
        print(f'Nr of No Chunk Producers: {self.nr_no_chunk_produced()}')
        self.visualize_stakes()
        self.visualize_kickout_not_enough_stake()
        self.visualize_kickout_not_enough_block()
        self.visualize_kickout_other_reason()


if __name__ == "__main__":
    # vloader = ValidatorLoader('shardnet')
    vloader = ValidatorLoader('mainnet')
    vloader.load()
    vloader.print_stats()
